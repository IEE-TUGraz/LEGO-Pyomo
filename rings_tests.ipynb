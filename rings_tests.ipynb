{
 "cells": [
  {
   "cell_type": "code",
   "execution_count": 2,
   "id": "initial_id",
   "metadata": {
    "collapsed": true,
    "ExecuteTime": {
     "end_time": "2025-09-25T09:00:15.574181Z",
     "start_time": "2025-09-25T09:00:15.550791Z"
    }
   },
   "outputs": [],
   "source": [
    "from InOutModule import TabSepReader"
   ]
  },
  {
   "cell_type": "code",
   "outputs": [],
   "source": [
    "import pandas as pd\n",
    "import os"
   ],
   "metadata": {
    "collapsed": false,
    "ExecuteTime": {
     "end_time": "2025-09-25T09:00:56.109025Z",
     "start_time": "2025-09-25T09:00:56.104624Z"
    }
   },
   "id": "804b2218c9f6aab7",
   "execution_count": 4
  },
  {
   "cell_type": "code",
   "outputs": [],
   "source": [
    "raw_data_PV = TabSepReader.read_tab_separated_file(os.path.join('data','rings','PV_oneModul_30_Sued.out'))\n",
    "raw_data_building = TabSepReader.read_tab_separated_file(os.path.join('data','rings','Building_5600m2.out'))\n",
    "raw_data_HP = TabSepReader.read_tab_separated_file(os.path.join('data','rings','HeatPump_data.out'))"
   ],
   "metadata": {
    "collapsed": false,
    "ExecuteTime": {
     "end_time": "2025-09-25T14:34:21.845258Z",
     "start_time": "2025-09-25T14:34:18.407779Z"
    }
   },
   "id": "ca8f1ee617c14fa8",
   "execution_count": 23
  },
  {
   "cell_type": "code",
   "outputs": [
    {
     "data": {
      "text/plain": "Index([' TIME                                   ',\n       'Qheat_bui_ist                           ',\n       'Qcool_bui_ist                           ',\n       'Q_elc_Gains                             ', 'Unnamed: 4'],\n      dtype='object')"
     },
     "execution_count": 50,
     "metadata": {},
     "output_type": "execute_result"
    }
   ],
   "source": [
    "raw_data_building.columns"
   ],
   "metadata": {
    "collapsed": false,
    "ExecuteTime": {
     "end_time": "2025-09-25T17:38:35.611920Z",
     "start_time": "2025-09-25T17:38:35.607310Z"
    }
   },
   "id": "fe144c13a4c5353c",
   "execution_count": 50
  },
  {
   "cell_type": "code",
   "outputs": [
    {
     "ename": "IndentationError",
     "evalue": "unindent does not match any outer indentation level (<string>, line 13)",
     "output_type": "error",
     "traceback": [
      "  \u001B[36mFile \u001B[39m\u001B[32m<string>:13\u001B[39m\n\u001B[31m    \u001B[39m\u001B[31mi = 0\u001B[39m\n         ^\n\u001B[31mIndentationError\u001B[39m\u001B[31m:\u001B[39m unindent does not match any outer indentation level\n"
     ]
    }
   ],
   "source": [
    "def my_func(myin):\n",
    "    num_in = myin\n",
    "    \n",
    "    if not isinstance(num_in,int) or num_in < 1 or num_in > 3999:\n",
    "      print(\"Invalid Input!\")\n",
    "    \n",
    "    else:\n",
    "        val = [1,5,10,50,100,500,1000]\n",
    "        sym = [I,V,X,L,C,D,M]\n",
    "    \n",
    "        roman_num = \"\"\n",
    "    \n",
    "     i = 0\n",
    "     while num_in > 0:\n",
    "       for _ in range(num_in//i):\n",
    "         roman_num += sym[i]\n",
    "         num_in -= val[i]\n",
    "        i += 1\n",
    "  \n",
    "    return roman_num\n",
    "\n",
    "myfunc(sdf)"
   ],
   "metadata": {
    "collapsed": false,
    "ExecuteTime": {
     "end_time": "2025-09-25T14:37:03.193117Z",
     "start_time": "2025-09-25T14:37:03.186737Z"
    }
   },
   "id": "e7bf47b62d395b00",
   "execution_count": 30
  },
  {
   "cell_type": "code",
   "outputs": [],
   "source": [],
   "metadata": {
    "collapsed": false
   },
   "id": "80c4d4cf6871aec6"
  },
  {
   "cell_type": "code",
   "outputs": [
    {
     "name": "stdout",
     "output_type": "stream",
     "text": [
      "I\n",
      "III\n",
      "IV\n",
      "XXIII\n",
      "MMMCDLXXXIX\n",
      "Invalid Input!\n",
      "Invalid Input!\n"
     ]
    }
   ],
   "source": [
    "def int_to_roman(num):\n",
    "    # Check input validity\n",
    "    if not isinstance(num, int) or num < 1 or num > 3999:\n",
    "        return \"Invalid Input!\"\n",
    "    \n",
    "    # Mapping of Roman numeral values\n",
    "    val = [\n",
    "        1000, 900, 500, 400,\n",
    "        100, 90, 50, 40,\n",
    "        10, 9, 5, 4,\n",
    "        1\n",
    "    ]\n",
    "    syms = [\n",
    "        \"M\", \"CM\", \"D\", \"CD\",\n",
    "        \"C\", \"XC\", \"L\", \"XL\",\n",
    "        \"X\", \"IX\", \"V\", \"IV\",\n",
    "        \"I\"\n",
    "    ]\n",
    "    \n",
    "    roman_num = \"\"\n",
    "    i = 0\n",
    "    while num > 0:\n",
    "        for _ in range(num // val[i]):\n",
    "            roman_num += syms[i]\n",
    "            num -= val[i]\n",
    "        i += 1\n",
    "    return roman_num\n",
    "\n",
    "\n",
    "# Examples\n",
    "print(int_to_roman(1))     # I\n",
    "print(int_to_roman(3))     # III\n",
    "print(int_to_roman(4))     # IV\n",
    "print(int_to_roman(23))    # XXIII\n",
    "print(int_to_roman(3489))  # MMMCDLXXXIX\n",
    "print(int_to_roman(0))     # Invalid Input!\n",
    "print(int_to_roman(\"12\"))  # Invalid Input!\n"
   ],
   "metadata": {
    "collapsed": false,
    "ExecuteTime": {
     "end_time": "2025-09-25T14:34:52.727884Z",
     "start_time": "2025-09-25T14:34:52.714420Z"
    }
   },
   "id": "6b2865ff30a1821a",
   "execution_count": 25
  },
  {
   "cell_type": "code",
   "outputs": [
    {
     "name": "stdout",
     "output_type": "stream",
     "text": [
      "Invalid Input!\n"
     ]
    },
    {
     "ename": "UnboundLocalError",
     "evalue": "cannot access local variable 'roman_num' where it is not associated with a value",
     "output_type": "error",
     "traceback": [
      "\u001B[31m---------------------------------------------------------------------------\u001B[39m",
      "\u001B[31mUnboundLocalError\u001B[39m                         Traceback (most recent call last)",
      "\u001B[36mCell\u001B[39m\u001B[36m \u001B[39m\u001B[32mIn[42]\u001B[39m\u001B[32m, line 23\u001B[39m\n\u001B[32m     19\u001B[39m         i += \u001B[32m1\u001B[39m\n\u001B[32m     21\u001B[39m     \u001B[38;5;28;01mreturn\u001B[39;00m roman_num\n\u001B[32m---> \u001B[39m\u001B[32m23\u001B[39m \u001B[43mmain\u001B[49m\u001B[43m(\u001B[49m\u001B[43m)\u001B[49m\n",
      "\u001B[36mCell\u001B[39m\u001B[36m \u001B[39m\u001B[32mIn[42]\u001B[39m\u001B[32m, line 21\u001B[39m, in \u001B[36mmain\u001B[39m\u001B[34m()\u001B[39m\n\u001B[32m     18\u001B[39m       num_in -= val[i]\n\u001B[32m     19\u001B[39m     i += \u001B[32m1\u001B[39m\n\u001B[32m---> \u001B[39m\u001B[32m21\u001B[39m \u001B[38;5;28;01mreturn\u001B[39;00m \u001B[43mroman_num\u001B[49m\n",
      "\u001B[31mUnboundLocalError\u001B[39m: cannot access local variable 'roman_num' where it is not associated with a value"
     ]
    }
   ],
   "source": [
    "\n",
    "def main():\n",
    "    num_in = 50345\n",
    "    \n",
    "    if not isinstance(num_in,int) or num_in < 1 or num_in > 3999:\n",
    "      print(\"Invalid Input!\")\n",
    "      roman_num = \"\"\n",
    "    \n",
    "    else:\n",
    "    \n",
    "      val = [1000,900,500,400,100,90,50,40,10,9,5,4,1]\n",
    "      sym = [\"M\",\"CM\",\"D\",\"CD\",\"C\",\"XC\",\"L\",\"XL\",\"X\",\"IX\",\"V\",\"IV\",\"I\"]\n",
    "    \n",
    "      roman_num = \"\"\n",
    "      \n",
    "      i = 0\n",
    "      while num_in > 0:\n",
    "        for _ in range(num_in//val[i]):\n",
    "          roman_num += sym[i]\n",
    "          num_in -= val[i]\n",
    "        i += 1\n",
    "  \n",
    "    return roman_num\n",
    "\n",
    "main()\n"
   ],
   "metadata": {
    "collapsed": false,
    "ExecuteTime": {
     "end_time": "2025-09-25T14:45:41.237059Z",
     "start_time": "2025-09-25T14:45:41.156517Z"
    }
   },
   "id": "3d735a789fb4cade",
   "execution_count": 42
  },
  {
   "cell_type": "code",
   "outputs": [
    {
     "ename": "SyntaxError",
     "evalue": "expected ':' (731268695.py, line 40)",
     "output_type": "error",
     "traceback": [
      "  \u001B[36mCell\u001B[39m\u001B[36m \u001B[39m\u001B[32mIn[48]\u001B[39m\u001B[32m, line 40\u001B[39m\n\u001B[31m    \u001B[39m\u001B[31mif kinder.lower()  == \"j\"\u001B[39m\n                             ^\n\u001B[31mSyntaxError\u001B[39m\u001B[31m:\u001B[39m expected ':'\n"
     ]
    }
   ],
   "source": [
    "\n",
    "def main():\n",
    "    \n",
    "    brutto = input(\"Ihr monatliches Bruttoeinkommen: \")\n",
    "    kinder = input(\"Kinder im Haushalt?: \")\n",
    "    if kinder.lower() in [\"j\",\"n\"]:\n",
    "      break:\n",
    "    else:\n",
    "      print(\"Invalide Eingabe!\\n\")\n",
    "    \n",
    "    if not isinstance(brutto,int) or brutto < 1 or brutto > 5000000:\n",
    "      print(\"Invalide Eingabe!\\n\")\n",
    "      return\n",
    "    \n",
    "    \n",
    "    if brutto <= 460:\n",
    "      sv = 0\n",
    "    elif brutto <= 1733:\n",
    "      sv = brutto * 0.15\n",
    "    elif brutto <= 1891:\n",
    "      sv = brutto * 0.16\n",
    "    elif brutto <= 2049:\n",
    "      sv = brutto * 0.17\n",
    "    else:\n",
    "      sv = min(brutto,5370) * 0.18\n",
    "      \n",
    "    lst_basis = brutto -sv\n",
    "    lst = 0\n",
    "    if lst_basis > 1000:\n",
    "      steuerteil = min(lst_basis-1000,500)\n",
    "      lst += steuerteil * 0.2\n",
    "    if lst_basis > 1500:\n",
    "      steuerteil = min(lst_basis-1500,1000)\n",
    "      lst += steuerteil * 0.3\n",
    "    if lst_basis > 2500:\n",
    "      steuerteil = min(lst_basis-2500,2500)\n",
    "      lst += steuerteil * 0.40\n",
    "    if lst_basis > 5000:\n",
    "      lst += (lst_basis-5000) * 0.50\n",
    "      \n",
    "    if kinder.lower()  == \"j\"\n",
    "      lst = max(0, lst -  100)\n",
    "    \n",
    "    # Netto\n",
    "    netto = brutto - sv- lst\n",
    "      \n",
    "    \n",
    "    \n",
    "    print(\"Brutto:\\t\\t%.2f\" % brutto)\n",
    "    print(\"SV:\\t\\t-%.2f\" % sv)\n",
    "    print(\"LSt:\\t\\t-%.2f\" % lst)\n",
    "    print(\"Netto:\\t\\t%.2f\" % netto)\n",
    "    \n",
    "    return\n",
    "\n",
    "main()\n"
   ],
   "metadata": {
    "collapsed": false,
    "ExecuteTime": {
     "end_time": "2025-09-25T15:34:31.750975Z",
     "start_time": "2025-09-25T15:34:31.728220Z"
    }
   },
   "id": "af86bc948c06152",
   "execution_count": 48
  },
  {
   "cell_type": "code",
   "outputs": [],
   "source": [],
   "metadata": {
    "collapsed": false,
    "ExecuteTime": {
     "end_time": "2025-10-03T11:59:31.717139Z",
     "start_time": "2025-10-03T11:59:31.714141Z"
    }
   },
   "id": "1e644b044a31b30e",
   "execution_count": 30
  }
 ],
 "metadata": {
  "kernelspec": {
   "display_name": "Python 3",
   "language": "python",
   "name": "python3"
  },
  "language_info": {
   "codemirror_mode": {
    "name": "ipython",
    "version": 2
   },
   "file_extension": ".py",
   "mimetype": "text/x-python",
   "name": "python",
   "nbconvert_exporter": "python",
   "pygments_lexer": "ipython2",
   "version": "2.7.6"
  }
 },
 "nbformat": 4,
 "nbformat_minor": 5
}
